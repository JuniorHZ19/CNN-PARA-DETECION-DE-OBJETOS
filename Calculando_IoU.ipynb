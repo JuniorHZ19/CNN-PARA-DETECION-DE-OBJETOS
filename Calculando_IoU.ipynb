{
  "nbformat": 4,
  "nbformat_minor": 0,
  "metadata": {
    "colab": {
      "provenance": [],
      "gpuType": "T4",
      "include_colab_link": true
    },
    "kernelspec": {
      "name": "python3",
      "display_name": "Python 3"
    },
    "language_info": {
      "name": "python"
    },
    "accelerator": "GPU"
  },
  "cells": [
    {
      "cell_type": "markdown",
      "metadata": {
        "id": "view-in-github",
        "colab_type": "text"
      },
      "source": [
        "<a href=\"https://colab.research.google.com/github/JuniorHZ19/CNN-PARA-DETECION-DE-OBJETOS/blob/main/Calculando_IoU.ipynb\" target=\"_parent\"><img src=\"https://colab.research.google.com/assets/colab-badge.svg\" alt=\"Open In Colab\"/></a>"
      ]
    },
    {
      "cell_type": "code",
      "source": [
        "import torch\n",
        "device = torch.device(\"cuda\" if torch.cuda.is_available() else \"cpu\")"
      ],
      "metadata": {
        "id": "-ONNYJ-6cvL5"
      },
      "execution_count": null,
      "outputs": []
    },
    {
      "cell_type": "code",
      "source": [
        "\n",
        "def calculateIoU(real_bb,predict_bb):\n",
        "\n",
        "   xl=max(real_bb[0],predict_bb[0]) #maximo entre x de cada extremo top_left de cada bounidnig box\n",
        "   yl=max(real_bb[1],predict_bb[1]) #maximo entre y de cada extremo top_left de cada bounidnig box\n",
        "\n",
        "   xr=min(real_bb[2],predict_bb[2]) #min entre x de cada extremo bottom_right de cada bounidnig box\n",
        "   yr=min(real_bb[3],predict_bb[3]) #min entre y de cada extremo bottom_right de cada bounidnig box\n",
        "\n",
        "   intersecion_area=(xr-xl)*(yr-yl)  #calculamos el area de la interseccion\n",
        "\n",
        "   area_realbb=(real_bb[2]-real_bb[0])*(real_bb[3]-real_bb[1]) # calculamos el area del bounding box real con cada una de sus coedenadas\n",
        "   area_predictbb=(predict_bb[2]-predict_bb[0])*(predict_bb[3]-predict_bb[1]) #calculamos el area del boudnign box predicho con cada una de sus coedenadas\n",
        "\n",
        "   union_area= (area_realbb + area_predictbb)- intersecion_area #Calculamos el area de la union\n",
        "\n",
        "   IoU= intersecion_area/union_area #calculamos IoU dividiendo la interesccion con la union\n",
        "\n",
        "   return IoU\n",
        "\n",
        "\n",
        "bb_real=[2,3,12,15]\n",
        "bb_predicho=[8,10,20,23]\n",
        "\n",
        "IoU_calculado=calculateIoU(bb_real,bb_predicho)\n",
        "\n",
        "print(IoU_calculado)\n"
      ],
      "metadata": {
        "id": "4Sh93aOHfOLd",
        "colab": {
          "base_uri": "https://localhost:8080/"
        },
        "outputId": "12650526-995a-4db2-ad0c-f136ec8718a6"
      },
      "execution_count": 11,
      "outputs": [
        {
          "output_type": "stream",
          "name": "stdout",
          "text": [
            "0.078125\n"
          ]
        }
      ]
    }
  ]
}